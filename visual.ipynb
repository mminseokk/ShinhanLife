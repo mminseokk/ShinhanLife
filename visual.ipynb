{
 "cells": [
  {
   "cell_type": "code",
   "execution_count": 2,
   "metadata": {},
   "outputs": [],
   "source": [
    "import pandas as pd\n",
    "import matplotlib.pyplot as plt\n",
    "from matplotlib import rc\n",
    "import seaborn as sns\n",
    "import numpy as np\n",
    "\n",
    "%matplotlib inline\n",
    "rc('font', family='AppleGothic')\n",
    "\n",
    "plt.rcParams['axes.unicode_minus'] = False "
   ]
  },
  {
   "cell_type": "code",
   "execution_count": 3,
   "metadata": {},
   "outputs": [
    {
     "name": "stderr",
     "output_type": "stream",
     "text": [
      "/var/folders/lg/0prvzzyx2cqf9n1f0g3wxhnr0000gn/T/ipykernel_89462/1107991187.py:1: DtypeWarning: Columns (0) have mixed types. Specify dtype option on import or set low_memory=False.\n",
      "  data = pd.read_csv('/Users/yoonminseok/Desktop/신빅헤/dat.csv', sep=',')\n"
     ]
    }
   ],
   "source": [
    "data = pd.read_csv('/Users/yoonminseok/Desktop/신빅헤/dat.csv', sep=',')"
   ]
  },
  {
   "cell_type": "code",
   "execution_count": 4,
   "metadata": {},
   "outputs": [
    {
     "name": "stdout",
     "output_type": "stream",
     "text": [
      "pk1          0\n",
      "pk2          3\n",
      "pk3          3\n",
      "pk4          3\n",
      "ba01m        3\n",
      "         ...  \n",
      "lf03r    22326\n",
      "lf04r    22326\n",
      "lf05r    22326\n",
      "lf06r    22326\n",
      "lf07r    22326\n",
      "Length: 433, dtype: int64\n"
     ]
    }
   ],
   "source": [
    "missing_data = data.isna().sum()\n",
    "print(missing_data)"
   ]
  },
  {
   "cell_type": "code",
   "execution_count": 5,
   "metadata": {},
   "outputs": [],
   "source": [
    "df_without_missing = data.dropna()"
   ]
  },
  {
   "cell_type": "code",
   "execution_count": 6,
   "metadata": {},
   "outputs": [],
   "source": [
    "#라이프데이터만 사용 \n",
    "life_data = df_without_missing.iloc[:, :4].join(df_without_missing.iloc[:, 373:])"
   ]
  },
  {
   "cell_type": "code",
   "execution_count": null,
   "metadata": {},
   "outputs": [],
   "source": [
    "la01r\n",
    "la02r\n",
    "la03r   최근 보험 계약 고객 비율 \n",
    "la04r\n",
    "la05r\n",
    "la06r\n",
    "list = ['la01r', 'la02r', 'la03r', 'la04r', 'la05r','la06r']\n",
    "dict = {'la01r':'종신', 'la02r':'건강', 'la03r':'상해', 'la04r':'어린이', 'la05r':'연금저축','la06r':'변액'} \n",
    "\n",
    "lb01r\n",
    "lb02r\n",
    "lb03r   보험 계약 고객 비율 \n",
    "lb04r\n",
    "lb05r\n",
    "lb06r\n",
    "list = ['lb01r', 'lb02r', 'lb03r', 'lb04r', 'lb05r','lb06r']\n",
    "dict = {'lb01r':'종신', 'lb02r':'건강', 'lb03r':'상해', 'lb04r':'어린이', 'lb05r':'연금저축','lb06r':'변액'}\n",
    "\n",
    "lb09m\n",
    "lb10m\n",
    "lb11m\n",
    "lb12m   월납보험료 \n",
    "lb13m\n",
    "lb14m\n",
    "list = ['lb09m', 'lb10m', 'lb11m', 'lb12m', 'lb13m','lb14m']\n",
    "dict = {'lb09m':'종신', 'lb10m':'건강', 'lb11m':'상해', 'lb12m':'어린이', 'lb13m':'연금저축','lb14m':'변액'}\n",
    "\n",
    "lb08m -> 월납보험료 총액 \n",
    "\n",
    "\n",
    "종신\n",
    "건강\n",
    "상해 \n",
    "어린이 \n",
    "연금저축\n",
    "변액 "
   ]
  },
  {
   "cell_type": "code",
   "execution_count": 7,
   "metadata": {},
   "outputs": [
    {
     "data": {
      "text/html": [
       "<div>\n",
       "<style scoped>\n",
       "    .dataframe tbody tr th:only-of-type {\n",
       "        vertical-align: middle;\n",
       "    }\n",
       "\n",
       "    .dataframe tbody tr th {\n",
       "        vertical-align: top;\n",
       "    }\n",
       "\n",
       "    .dataframe thead th {\n",
       "        text-align: right;\n",
       "    }\n",
       "</style>\n",
       "<table border=\"1\" class=\"dataframe\">\n",
       "  <thead>\n",
       "    <tr style=\"text-align: right;\">\n",
       "      <th></th>\n",
       "      <th>pk1</th>\n",
       "      <th>pk2</th>\n",
       "      <th>pk3</th>\n",
       "      <th>pk4</th>\n",
       "      <th>la01r</th>\n",
       "      <th>la02r</th>\n",
       "      <th>la03r</th>\n",
       "      <th>la04r</th>\n",
       "      <th>la05r</th>\n",
       "      <th>la06r</th>\n",
       "      <th>...</th>\n",
       "      <th>le12r</th>\n",
       "      <th>le13r</th>\n",
       "      <th>le14r</th>\n",
       "      <th>lf01r</th>\n",
       "      <th>lf02r</th>\n",
       "      <th>lf03r</th>\n",
       "      <th>lf04r</th>\n",
       "      <th>lf05r</th>\n",
       "      <th>lf06r</th>\n",
       "      <th>lf07r</th>\n",
       "    </tr>\n",
       "  </thead>\n",
       "  <tbody>\n",
       "    <tr>\n",
       "      <th>9550</th>\n",
       "      <td>2208</td>\n",
       "      <td>M</td>\n",
       "      <td>20e</td>\n",
       "      <td>11110515.0</td>\n",
       "      <td>0.29</td>\n",
       "      <td>0.40</td>\n",
       "      <td>0.30</td>\n",
       "      <td>0.0</td>\n",
       "      <td>0.01</td>\n",
       "      <td>0.14</td>\n",
       "      <td>...</td>\n",
       "      <td>0.21</td>\n",
       "      <td>0.11</td>\n",
       "      <td>0.05</td>\n",
       "      <td>0.93</td>\n",
       "      <td>0.83</td>\n",
       "      <td>0.26</td>\n",
       "      <td>0.04</td>\n",
       "      <td>0.13</td>\n",
       "      <td>0.60</td>\n",
       "      <td>0.23</td>\n",
       "    </tr>\n",
       "    <tr>\n",
       "      <th>9551</th>\n",
       "      <td>2208</td>\n",
       "      <td>M</td>\n",
       "      <td>20e</td>\n",
       "      <td>11110530.0</td>\n",
       "      <td>0.29</td>\n",
       "      <td>0.47</td>\n",
       "      <td>0.30</td>\n",
       "      <td>0.0</td>\n",
       "      <td>0.01</td>\n",
       "      <td>0.15</td>\n",
       "      <td>...</td>\n",
       "      <td>0.21</td>\n",
       "      <td>0.12</td>\n",
       "      <td>0.08</td>\n",
       "      <td>0.90</td>\n",
       "      <td>0.79</td>\n",
       "      <td>0.28</td>\n",
       "      <td>0.06</td>\n",
       "      <td>0.15</td>\n",
       "      <td>0.56</td>\n",
       "      <td>0.23</td>\n",
       "    </tr>\n",
       "    <tr>\n",
       "      <th>9552</th>\n",
       "      <td>2208</td>\n",
       "      <td>M</td>\n",
       "      <td>20e</td>\n",
       "      <td>11110540.0</td>\n",
       "      <td>0.41</td>\n",
       "      <td>0.29</td>\n",
       "      <td>0.24</td>\n",
       "      <td>0.0</td>\n",
       "      <td>0.00</td>\n",
       "      <td>0.18</td>\n",
       "      <td>...</td>\n",
       "      <td>0.22</td>\n",
       "      <td>0.09</td>\n",
       "      <td>0.03</td>\n",
       "      <td>0.88</td>\n",
       "      <td>0.78</td>\n",
       "      <td>0.19</td>\n",
       "      <td>0.07</td>\n",
       "      <td>0.18</td>\n",
       "      <td>0.58</td>\n",
       "      <td>0.17</td>\n",
       "    </tr>\n",
       "    <tr>\n",
       "      <th>9553</th>\n",
       "      <td>2208</td>\n",
       "      <td>M</td>\n",
       "      <td>20e</td>\n",
       "      <td>11110550.0</td>\n",
       "      <td>0.34</td>\n",
       "      <td>0.49</td>\n",
       "      <td>0.25</td>\n",
       "      <td>0.0</td>\n",
       "      <td>0.02</td>\n",
       "      <td>0.10</td>\n",
       "      <td>...</td>\n",
       "      <td>0.25</td>\n",
       "      <td>0.11</td>\n",
       "      <td>0.04</td>\n",
       "      <td>0.91</td>\n",
       "      <td>0.79</td>\n",
       "      <td>0.26</td>\n",
       "      <td>0.04</td>\n",
       "      <td>0.16</td>\n",
       "      <td>0.58</td>\n",
       "      <td>0.21</td>\n",
       "    </tr>\n",
       "    <tr>\n",
       "      <th>9554</th>\n",
       "      <td>2208</td>\n",
       "      <td>M</td>\n",
       "      <td>20e</td>\n",
       "      <td>11110560.0</td>\n",
       "      <td>0.27</td>\n",
       "      <td>0.44</td>\n",
       "      <td>0.30</td>\n",
       "      <td>0.0</td>\n",
       "      <td>0.00</td>\n",
       "      <td>0.15</td>\n",
       "      <td>...</td>\n",
       "      <td>0.24</td>\n",
       "      <td>0.10</td>\n",
       "      <td>0.04</td>\n",
       "      <td>0.92</td>\n",
       "      <td>0.79</td>\n",
       "      <td>0.25</td>\n",
       "      <td>0.04</td>\n",
       "      <td>0.16</td>\n",
       "      <td>0.58</td>\n",
       "      <td>0.21</td>\n",
       "    </tr>\n",
       "    <tr>\n",
       "      <th>...</th>\n",
       "      <td>...</td>\n",
       "      <td>...</td>\n",
       "      <td>...</td>\n",
       "      <td>...</td>\n",
       "      <td>...</td>\n",
       "      <td>...</td>\n",
       "      <td>...</td>\n",
       "      <td>...</td>\n",
       "      <td>...</td>\n",
       "      <td>...</td>\n",
       "      <td>...</td>\n",
       "      <td>...</td>\n",
       "      <td>...</td>\n",
       "      <td>...</td>\n",
       "      <td>...</td>\n",
       "      <td>...</td>\n",
       "      <td>...</td>\n",
       "      <td>...</td>\n",
       "      <td>...</td>\n",
       "      <td>...</td>\n",
       "      <td>...</td>\n",
       "    </tr>\n",
       "    <tr>\n",
       "      <th>105987</th>\n",
       "      <td>2306</td>\n",
       "      <td>M</td>\n",
       "      <td>20e</td>\n",
       "      <td>41273570.0</td>\n",
       "      <td>0.33</td>\n",
       "      <td>0.33</td>\n",
       "      <td>0.33</td>\n",
       "      <td>0.0</td>\n",
       "      <td>0.00</td>\n",
       "      <td>0.33</td>\n",
       "      <td>...</td>\n",
       "      <td>0.20</td>\n",
       "      <td>0.10</td>\n",
       "      <td>0.00</td>\n",
       "      <td>0.90</td>\n",
       "      <td>0.90</td>\n",
       "      <td>0.10</td>\n",
       "      <td>0.00</td>\n",
       "      <td>0.20</td>\n",
       "      <td>0.70</td>\n",
       "      <td>0.10</td>\n",
       "    </tr>\n",
       "    <tr>\n",
       "      <th>105991</th>\n",
       "      <td>2306</td>\n",
       "      <td>M</td>\n",
       "      <td>20e</td>\n",
       "      <td>41360262.0</td>\n",
       "      <td>0.00</td>\n",
       "      <td>0.40</td>\n",
       "      <td>0.60</td>\n",
       "      <td>0.0</td>\n",
       "      <td>0.00</td>\n",
       "      <td>0.20</td>\n",
       "      <td>...</td>\n",
       "      <td>0.25</td>\n",
       "      <td>0.06</td>\n",
       "      <td>0.00</td>\n",
       "      <td>0.94</td>\n",
       "      <td>0.94</td>\n",
       "      <td>0.19</td>\n",
       "      <td>0.06</td>\n",
       "      <td>0.00</td>\n",
       "      <td>0.75</td>\n",
       "      <td>0.19</td>\n",
       "    </tr>\n",
       "    <tr>\n",
       "      <th>105994</th>\n",
       "      <td>2306</td>\n",
       "      <td>M</td>\n",
       "      <td>20e</td>\n",
       "      <td>41370570.0</td>\n",
       "      <td>0.00</td>\n",
       "      <td>0.00</td>\n",
       "      <td>0.00</td>\n",
       "      <td>0.0</td>\n",
       "      <td>0.00</td>\n",
       "      <td>1.00</td>\n",
       "      <td>...</td>\n",
       "      <td>0.21</td>\n",
       "      <td>0.07</td>\n",
       "      <td>0.07</td>\n",
       "      <td>0.86</td>\n",
       "      <td>0.64</td>\n",
       "      <td>0.43</td>\n",
       "      <td>0.14</td>\n",
       "      <td>0.14</td>\n",
       "      <td>0.36</td>\n",
       "      <td>0.36</td>\n",
       "    </tr>\n",
       "    <tr>\n",
       "      <th>106002</th>\n",
       "      <td>2306</td>\n",
       "      <td>M</td>\n",
       "      <td>20e</td>\n",
       "      <td>41500253.0</td>\n",
       "      <td>0.00</td>\n",
       "      <td>0.00</td>\n",
       "      <td>1.00</td>\n",
       "      <td>0.0</td>\n",
       "      <td>0.00</td>\n",
       "      <td>0.00</td>\n",
       "      <td>...</td>\n",
       "      <td>0.30</td>\n",
       "      <td>0.00</td>\n",
       "      <td>0.00</td>\n",
       "      <td>0.80</td>\n",
       "      <td>0.70</td>\n",
       "      <td>0.00</td>\n",
       "      <td>0.20</td>\n",
       "      <td>0.10</td>\n",
       "      <td>0.70</td>\n",
       "      <td>0.00</td>\n",
       "    </tr>\n",
       "    <tr>\n",
       "      <th>106004</th>\n",
       "      <td>2306</td>\n",
       "      <td>M</td>\n",
       "      <td>20e</td>\n",
       "      <td>41590259.0</td>\n",
       "      <td>0.00</td>\n",
       "      <td>0.33</td>\n",
       "      <td>0.33</td>\n",
       "      <td>0.0</td>\n",
       "      <td>0.00</td>\n",
       "      <td>0.00</td>\n",
       "      <td>...</td>\n",
       "      <td>0.23</td>\n",
       "      <td>0.23</td>\n",
       "      <td>0.00</td>\n",
       "      <td>0.77</td>\n",
       "      <td>0.62</td>\n",
       "      <td>0.38</td>\n",
       "      <td>0.08</td>\n",
       "      <td>0.31</td>\n",
       "      <td>0.38</td>\n",
       "      <td>0.23</td>\n",
       "    </tr>\n",
       "  </tbody>\n",
       "</table>\n",
       "<p>2103 rows × 64 columns</p>\n",
       "</div>"
      ],
      "text/plain": [
       "         pk1 pk2  pk3         pk4  la01r  la02r  la03r  la04r  la05r  la06r  \\\n",
       "9550    2208   M  20e  11110515.0   0.29   0.40   0.30    0.0   0.01   0.14   \n",
       "9551    2208   M  20e  11110530.0   0.29   0.47   0.30    0.0   0.01   0.15   \n",
       "9552    2208   M  20e  11110540.0   0.41   0.29   0.24    0.0   0.00   0.18   \n",
       "9553    2208   M  20e  11110550.0   0.34   0.49   0.25    0.0   0.02   0.10   \n",
       "9554    2208   M  20e  11110560.0   0.27   0.44   0.30    0.0   0.00   0.15   \n",
       "...      ...  ..  ...         ...    ...    ...    ...    ...    ...    ...   \n",
       "105987  2306   M  20e  41273570.0   0.33   0.33   0.33    0.0   0.00   0.33   \n",
       "105991  2306   M  20e  41360262.0   0.00   0.40   0.60    0.0   0.00   0.20   \n",
       "105994  2306   M  20e  41370570.0   0.00   0.00   0.00    0.0   0.00   1.00   \n",
       "106002  2306   M  20e  41500253.0   0.00   0.00   1.00    0.0   0.00   0.00   \n",
       "106004  2306   M  20e  41590259.0   0.00   0.33   0.33    0.0   0.00   0.00   \n",
       "\n",
       "        ...  le12r  le13r  le14r  lf01r  lf02r  lf03r  lf04r  lf05r  lf06r  \\\n",
       "9550    ...   0.21   0.11   0.05   0.93   0.83   0.26   0.04   0.13   0.60   \n",
       "9551    ...   0.21   0.12   0.08   0.90   0.79   0.28   0.06   0.15   0.56   \n",
       "9552    ...   0.22   0.09   0.03   0.88   0.78   0.19   0.07   0.18   0.58   \n",
       "9553    ...   0.25   0.11   0.04   0.91   0.79   0.26   0.04   0.16   0.58   \n",
       "9554    ...   0.24   0.10   0.04   0.92   0.79   0.25   0.04   0.16   0.58   \n",
       "...     ...    ...    ...    ...    ...    ...    ...    ...    ...    ...   \n",
       "105987  ...   0.20   0.10   0.00   0.90   0.90   0.10   0.00   0.20   0.70   \n",
       "105991  ...   0.25   0.06   0.00   0.94   0.94   0.19   0.06   0.00   0.75   \n",
       "105994  ...   0.21   0.07   0.07   0.86   0.64   0.43   0.14   0.14   0.36   \n",
       "106002  ...   0.30   0.00   0.00   0.80   0.70   0.00   0.20   0.10   0.70   \n",
       "106004  ...   0.23   0.23   0.00   0.77   0.62   0.38   0.08   0.31   0.38   \n",
       "\n",
       "        lf07r  \n",
       "9550     0.23  \n",
       "9551     0.23  \n",
       "9552     0.17  \n",
       "9553     0.21  \n",
       "9554     0.21  \n",
       "...       ...  \n",
       "105987   0.10  \n",
       "105991   0.19  \n",
       "105994   0.36  \n",
       "106002   0.00  \n",
       "106004   0.23  \n",
       "\n",
       "[2103 rows x 64 columns]"
      ]
     },
     "execution_count": 7,
     "metadata": {},
     "output_type": "execute_result"
    }
   ],
   "source": [
    "#20대 후반 남성 \n",
    "desired_data = life_data[(life_data['pk3'] == '20e') & (life_data['pk2'] == 'M')]\n",
    "desired_data"
   ]
  },
  {
   "cell_type": "code",
   "execution_count": 43,
   "metadata": {},
   "outputs": [
    {
     "name": "stdout",
     "output_type": "stream",
     "text": [
      "[0.16541579 0.59403297 0.19148921 0.00806449 0.0186938  0.02064638]\n",
      "[0.29538754 0.48209225 0.25037565 0.00214931 0.00933428 0.06579173]\n",
      "[ 78.57276094 -18.84419361  30.75183057 -73.34847227 -50.06749887\n",
      " 218.65986941]\n"
     ]
    },
    {
     "data": {
      "text/plain": [
       "<matplotlib.legend.Legend at 0x7ff752ce1cd0>"
      ]
     },
     "execution_count": 43,
     "metadata": {},
     "output_type": "execute_result"
    },
    {
     "data": {
      "image/png": "[encoded data removed]",
      "text/plain": [
       "<Figure size 432x288 with 1 Axes>"
      ]
     },
     "metadata": {
      "needs_background": "light"
     },
     "output_type": "display_data"
    }
   ],
   "source": [
    "#최근 보험 계약 고객 비율 - 20대 후반 남성 \n",
    "\n",
    "list = ['la01r', 'la02r', 'la03r', 'la04r', 'la05r','la06r']\n",
    "dict = {'la01r':'종신', 'la02r':'건강', 'la03r':'상해', 'la04r':'어린이', 'la05r':'연금저축','la06r':'변액'} \n",
    "\n",
    "\n",
    "total_averages = life_data[list].mean()\n",
    "total_averages = total_averages.to_numpy()\n",
    "\n",
    "\n",
    "averages = desired_data[list].mean()\n",
    "averages = averages.to_numpy()\n",
    "\n",
    "\n",
    "print(total_averages)\n",
    "print(averages)\n",
    "\n",
    "percent = (averages - total_averages)*100 / (total_averages)\n",
    "print(percent)\n",
    "\n",
    "labels = ['종신', '건강', '상해', '어린이', '연금저축 ', '변액']\n",
    "\n",
    "# 막대 그래프 그리기\n",
    "x = np.arange(len(labels))\n",
    "width = 0.35\n",
    "\n",
    "fig, ax = plt.subplots()\n",
    "rects1 = ax.bar(x - width/2, total_averages, width, label='전체 연령 평균',color='#819FF7')\n",
    "rects2 = ax.bar(x + width/2, averages, width, label='20대 남성 평균',color = '#E3CEF6')\n",
    "\n",
    "# X 축 레이블 및 제목 설정\n",
    "ax.set_xticks(x)\n",
    "ax.set_xticklabels(labels)\n",
    "ax.legend()\n",
    "\n",
    "\n",
    "\n",
    "\n",
    "#819FF7\n",
    "#E3CEF6"
   ]
  },
  {
   "cell_type": "code",
   "execution_count": 45,
   "metadata": {},
   "outputs": [
    {
     "name": "stdout",
     "output_type": "stream",
     "text": [
      "[0.19932929 0.11383797 0.11821737 0.22535279 0.00447818 0.11528452]\n",
      "[0.07826914 0.11132192 0.08211602 0.22584403 0.00036139 0.03923443]\n",
      "[-60.73374909  -2.21020131 -30.53810697   0.21799025 -91.93000624\n",
      " -65.96730559]\n"
     ]
    },
    {
     "data": {
      "text/plain": [
       "<matplotlib.legend.Legend at 0x7ff707aaff70>"
      ]
     },
     "execution_count": 45,
     "metadata": {},
     "output_type": "execute_result"
    },
    {
     "data": {
      "image/png": "[encoded data removed]",
      "text/plain": [
       "<Figure size 432x288 with 1 Axes>"
      ]
     },
     "metadata": {
      "needs_background": "light"
     },
     "output_type": "display_data"
    }
   ],
   "source": [
    "#최근 보험 계약 고객 비율 - 20대 후반 남성 \n",
    "\n",
    "list = ['lc02r', 'lc03r', 'lc04r', 'lc05r', 'lc06r','lc07r']\n",
    "dict = {'lc02r':'종신', 'lc03r':'건강', 'lc04r':'상해', 'lc05r':'어린이', 'lc06r':'연금저축','lc07r':'변액'} \n",
    "\n",
    "\n",
    "total_averages = life_data[list].mean()\n",
    "total_averages = total_averages.to_numpy()\n",
    "\n",
    "\n",
    "averages = desired_data[list].mean()\n",
    "averages = averages.to_numpy()\n",
    "\n",
    "\n",
    "print(total_averages)\n",
    "print(averages)\n",
    "\n",
    "percent = (averages - total_averages)*100 / (total_averages)\n",
    "print(percent)\n",
    "\n",
    "labels = ['종신', '건강', '상해', '어린이', '연금저축 ', '변액']\n",
    "\n",
    "# 막대 그래프 그리기\n",
    "x = np.arange(len(labels))\n",
    "width = 0.35\n",
    "\n",
    "fig, ax = plt.subplots()\n",
    "rects1 = ax.bar(x - width/2, total_averages, width, label='전체 연령 평균',color='#A9BCF5')\n",
    "rects2 = ax.bar(x + width/2, averages, width, label='20대 남성 평균',color = '#F2E0F7')\n",
    "\n",
    "# X 축 레이블 및 제목 설정\n",
    "ax.set_xticks(x)\n",
    "ax.set_xticklabels(labels)\n",
    "ax.legend()\n",
    "\n",
    "\n",
    "\n",
    "#819FF7\n",
    "#E3CEF6"
   ]
  },
  {
   "cell_type": "code",
   "execution_count": 21,
   "metadata": {},
   "outputs": [
    {
     "name": "stdout",
     "output_type": "stream",
     "text": [
      "[0.34312005 0.40278125 0.14081542 0.11982769 0.11771116 0.06254049]\n",
      "[0.39094627 0.41636709 0.1457632  0.09368046 0.04620542 0.09453162]\n"
     ]
    },
    {
     "data": {
      "text/plain": [
       "<matplotlib.legend.Legend at 0x7fd650f8d730>"
      ]
     },
     "execution_count": 21,
     "metadata": {},
     "output_type": "execute_result"
    },
    {
     "data": {
      "image/png": "[encoded data removed]",
      "text/plain": [
       "<Figure size 432x288 with 1 Axes>"
      ]
     },
     "metadata": {
      "needs_background": "light"
     },
     "output_type": "display_data"
    }
   ],
   "source": [
    "#보험 계약 고객 비율 - 20대 후반 남성 \n",
    "\n",
    "list = ['lb01r', 'lb02r', 'lb03r', 'lb04r', 'lb05r','lb06r']\n",
    "dict = {'lb01r':'종신', 'lb02r':'건강', 'lb03r':'상해', 'lb04r':'어린이', 'lb05r':'연금저축','lb06r':'변액'}\n",
    "\n",
    "total_averages = life_data[list].mean()\n",
    "total_averages = total_averages.to_numpy()\n",
    "\n",
    "\n",
    "averages = desired_data[list].mean()\n",
    "averages = averages.to_numpy()\n",
    "\n",
    "\n",
    "print(total_averages)\n",
    "print(averages)\n",
    "\n",
    "labels = ['종신 보험', '건강 보험', '상해 보험', '어린이 보험', '연금저축 보험 ', '변액 보험']\n",
    "\n",
    "# 막대 그래프 그리기\n",
    "x = np.arange(len(labels))\n",
    "width = 0.35\n",
    "\n",
    "fig, ax = plt.subplots()\n",
    "rects1 = ax.bar(x - width/2, total_averages, width, label='Total Averages')\n",
    "rects2 = ax.bar(x + width/2, averages, width, label='Averages')\n",
    "\n",
    "# X 축 레이블 및 제목 설정\n",
    "ax.set_xlabel('Columns')\n",
    "ax.set_ylabel('Values')\n",
    "ax.set_title('Comparison of Averages')\n",
    "ax.set_xticks(x)\n",
    "ax.set_xticklabels(labels)\n",
    "ax.legend()\n"
   ]
  },
  {
   "cell_type": "code",
   "execution_count": 37,
   "metadata": {},
   "outputs": [
    {
     "data": {
      "text/plain": [
       "array([143474.08464099,  28760.81787922,  62897.28958631,  47708.03613885,\n",
       "       180954.35092725, 217427.48454589])"
      ]
     },
     "execution_count": 37,
     "metadata": {},
     "output_type": "execute_result"
    }
   ],
   "source": [
    "selected_columns = ['lb09m', 'lb10m', 'lb11m', 'lb12m', 'lb13m', 'lb14m']\n",
    "averages = desired_data[selected_columns].mean()\n",
    "averages = averages.to_numpy()\n",
    "averages"
   ]
  },
  {
   "cell_type": "code",
   "execution_count": 38,
   "metadata": {},
   "outputs": [
    {
     "data": {
      "image/png": "[encoded data removed]",
      "text/plain": [
       "<Figure size 432x432 with 1 Axes>"
      ]
     },
     "metadata": {},
     "output_type": "display_data"
    }
   ],
   "source": [
    "import matplotlib.pyplot as plt\n",
    "import numpy as np\n",
    "\n",
    "# 열 이름 (레이더 차트의 각 범주)\n",
    "categories = ['종신', '건강', '상해', '어린이', '연금저축', '변액']\n",
    "\n",
    "# 각 범주의 각도 계산\n",
    "angles = np.linspace(0, 2 * np.pi, len(categories), endpoint=False).tolist()\n",
    "angles += angles[:1]\n",
    "\n",
    "# 데이터 값이 닫힌 형태로 되어 있어야 하므로, 첫 번째 값을 마지막에 추가\n",
    "averages = np.concatenate((averages, [averages[0]]))\n",
    "\n",
    "# 육각형 레이더 차트 그리기\n",
    "plt.figure(figsize=(6, 6))\n",
    "ax = plt.subplot(111, polar=True)\n",
    "\n",
    "plt.xticks(angles[:-1], categories, color='#819FF7', size=9)\n",
    "\n",
    "ax.fill(angles, averages, 'b', alpha=0.1)\n",
    "plt.show()"
   ]
  },
  {
   "cell_type": "code",
   "execution_count": null,
   "metadata": {},
   "outputs": [],
   "source": []
  },
  {
   "cell_type": "code",
   "execution_count": null,
   "metadata": {},
   "outputs": [],
   "source": []
  },
  {
   "cell_type": "code",
   "execution_count": null,
   "metadata": {},
   "outputs": [],
   "source": []
  },
  {
   "cell_type": "code",
   "execution_count": null,
   "metadata": {},
   "outputs": [],
   "source": []
  },
  {
   "cell_type": "code",
   "execution_count": null,
   "metadata": {},
   "outputs": [],
   "source": []
  },
  {
   "cell_type": "code",
   "execution_count": null,
   "metadata": {},
   "outputs": [],
   "source": []
  },
  {
   "cell_type": "code",
   "execution_count": 23,
   "metadata": {},
   "outputs": [
    {
     "data": {
      "text/plain": [
       "<matplotlib.legend.Legend at 0x7fd650da4e80>"
      ]
     },
     "execution_count": 23,
     "metadata": {},
     "output_type": "execute_result"
    },
    {
     "data": {
      "image/png": "[encoded data removed]",
      "text/plain": [
       "<Figure size 432x288 with 1 Axes>"
      ]
     },
     "metadata": {
      "needs_background": "light"
     },
     "output_type": "display_data"
    }
   ],
   "source": [
    "import matplotlib.pyplot as plt\n",
    "import numpy as np\n",
    "\n",
    "labels = ['종신 보험', '건강 보험', '상해 보험', '어린이 보험', '연금저축 보험 ', '변액 보험']\n",
    "\n",
    "# 막대 그래프 그리기\n",
    "x = np.arange(len(labels))\n",
    "width = 0.35\n",
    "\n",
    "fig, ax = plt.subplots()\n",
    "rects1 = ax.bar(x - width/2, total_averages, width, label='Total Averages')\n",
    "rects2 = ax.bar(x + width/2, averages, width, label='Averages')\n",
    "\n",
    "# X 축 레이블 및 제목 설정\n",
    "ax.set_xlabel('Columns')\n",
    "ax.set_ylabel('Values')\n",
    "ax.set_title('Comparison of Averages')\n",
    "ax.set_xticks(x)\n",
    "ax.set_xticklabels(labels)\n",
    "ax.legend()"
   ]
  },
  {
   "cell_type": "code",
   "execution_count": 14,
   "metadata": {},
   "outputs": [
    {
     "name": "stdout",
     "output_type": "stream",
     "text": [
      "[93482.87820466]\n",
      "[99160.24726581]\n"
     ]
    }
   ],
   "source": [
    "#전체 월납 보험료  - 20대 후반 남성 \n",
    "\n",
    "list = ['lb08m']\n",
    "\n",
    "total_averages = life_data[list].mean()\n",
    "total_averages = total_averages.to_numpy()\n",
    "\n",
    "\n",
    "averages = desired_data[list].mean()\n",
    "averages = averages.to_numpy()\n",
    "\n",
    "\n",
    "print(total_averages)\n",
    "print(averages)"
   ]
  },
  {
   "cell_type": "code",
   "execution_count": 40,
   "metadata": {},
   "outputs": [
    {
     "data": {
      "image/png": "[encoded data removed]",
      "text/plain": [
       "<Figure size 432x432 with 1 Axes>"
      ]
     },
     "metadata": {},
     "output_type": "display_data"
    }
   ],
   "source": [
    "list = ['le01r','le02r','le03r']\n",
    "averages = desired_data[list].mean()\n",
    "averages = averages.to_numpy()\n",
    "\n",
    "\n",
    "labels = ['보험 계약 1건 보유 고객 비율', '보험 계약 2건 보유 고객 비율', '보험 계약 3건 이상 보유 고객 비율']\n",
    "colors = ['#ff9999','#66b3ff','#99ff99']\n",
    "explode = (0, 0, 0)  # 첫 번째 조각을 조금 떼어내기 위해 explode 설정\n",
    "\n",
    "# 원형 차트 그리기\n",
    "plt.figure(figsize=(6, 6))\n",
    "plt.pie(averages, labels=labels, colors=colors, autopct='%1.1f%%', startangle=140, explode=explode)\n",
    "\n",
    "# 제목 설정\n",
    "plt.title('고객 보험 계약 건수 비율')\n",
    "\n",
    "# 원형 차트 표시\n",
    "plt.axis('equal')  # 원형으로 보이도록 설정\n",
    "plt.show()"
   ]
  },
  {
   "cell_type": "markdown",
   "metadata": {},
   "source": []
  },
  {
   "cell_type": "code",
   "execution_count": 15,
   "metadata": {},
   "outputs": [
    {
     "data": {
      "image/png": "[encoded data removed]",
      "text/plain": [
       "<Figure size 432x432 with 1 Axes>"
      ]
     },
     "metadata": {},
     "output_type": "display_data"
    }
   ],
   "source": [
    "list = ['le04r','le05r','le06r','le07r','le08r','le09r']\n",
    "averages = desired_data[list].mean()\n",
    "averages = averages.to_numpy()\n",
    "\n",
    "labels = ['3만원 미만', '3-5만원', '5-10만원', '10-15만원','15-20만원','20만원 이상']\n",
    "colors = ['#E0E0F8','#A9BCF5','#819FF7', '#E3CEF6', '#F2E0F7','#5882FA']\n",
    "explode = (0, 0, 0, 0, 0, 0)  # 첫 번째 조각을 조금 떼어내기 위해 explode 설정\n",
    "\n",
    "# 원형 차트 그리기\n",
    "plt.figure(figsize=(6, 6))\n",
    "plt.pie(averages, labels=labels, colors=colors, autopct='%1.1f%%', startangle=140, explode=explode)\n",
    "\n",
    "\n",
    "#819FF7\n",
    "#E3CEF6\n",
    "\n",
    "\n",
    "#A9BCF5\n",
    "\n",
    "#F2E0F7\n",
    "# 원형 차트 표시\n",
    "plt.axis('equal')  # 원형으로 보이도록 설정\n",
    "plt.show()"
   ]
  },
  {
   "cell_type": "code",
   "execution_count": 39,
   "metadata": {},
   "outputs": [
    {
     "data": {
      "image/png": "[encoded data removed]",
      "text/plain": [
       "<Figure size 432x432 with 1 Axes>"
      ]
     },
     "metadata": {},
     "output_type": "display_data"
    }
   ],
   "source": [
    "list = ['le10r','le11r','le12r','le13r','le14r']\n",
    "averages = desired_data[list].mean()\n",
    "averages = averages.to_numpy()\n",
    "\n",
    "labels = ['1년 미만 고객', '1-5', '5-10', '10-15','15-']\n",
    "colors = ['#ff9999','#66b3ff','#99ff99', '#ffcc99', '#c2c2f0']\n",
    "explode = (0, 0, 0, 0, 0)  # 첫 번째 조각을 조금 떼어내기 위해 explode 설정\n",
    "\n",
    "\n",
    "# 원형 차트 그리기\n",
    "plt.figure(figsize=(6, 6))\n",
    "plt.pie(averages, labels=labels, colors=colors, autopct='%1.1f%%', startangle=140, explode=explode)\n",
    "\n",
    "# 제목 설정\n",
    "plt.title('고객 보험 계약 건수 비율')\n",
    "\n",
    "# 원형 차트 표시\n",
    "plt.axis('equal')  # 원형으로 보이도록 설정\n",
    "plt.show()"
   ]
  },
  {
   "cell_type": "code",
   "execution_count": null,
   "metadata": {},
   "outputs": [],
   "source": []
  },
  {
   "cell_type": "code",
   "execution_count": null,
   "metadata": {},
   "outputs": [],
   "source": []
  },
  {
   "cell_type": "code",
   "execution_count": null,
   "metadata": {},
   "outputs": [],
   "source": []
  },
  {
   "cell_type": "code",
   "execution_count": null,
   "metadata": {},
   "outputs": [],
   "source": []
  },
  {
   "cell_type": "code",
   "execution_count": null,
   "metadata": {},
   "outputs": [],
   "source": []
  },
  {
   "cell_type": "code",
   "execution_count": null,
   "metadata": {},
   "outputs": [],
   "source": []
  }
 ],
 "metadata": {
  "kernelspec": {
   "display_name": "base",
   "language": "python",
   "name": "python3"
  },
  "language_info": {
   "codemirror_mode": {
    "name": "ipython",
    "version": 3
   },
   "file_extension": ".py",
   "mimetype": "text/x-python",
   "name": "python",
   "nbconvert_exporter": "python",
   "pygments_lexer": "ipython3",
   "version": "3.9.12"
  },
  "orig_nbformat": 4
 },
 "nbformat": 4,
 "nbformat_minor": 2
}
